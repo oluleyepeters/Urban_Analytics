{
 "cells": [
  {
   "cell_type": "markdown",
   "id": "97e74759",
   "metadata": {},
   "source": [
    "## Studing city mobility and users whereabouts"
   ]
  },
  {
   "cell_type": "markdown",
   "id": "6420f7bc",
   "metadata": {},
   "source": [
    "**Lecturer: Dr. Riccardo Di Clemente**, University of Exeter\n",
    "mailto:r.di-clemente@exeter.ac.uk\n",
    "www.ricccardodiclemente.com\n",
    "\n",
    "**Exeter Summer School in Urban Analytics, 26th-30th July 2021**\n",
    "Day 3 - Lab on Urban Mobility\n",
    "\n",
    "\n",
    "This notebook are a collection of some exercises on human mobility using a GPS trajectory dataset was collected in (Microsoft Research Asia) Geolife project some users in a period of over three years (from April 2007 to August 2012). Last published: August 9, 2012.\n",
    "https://www.microsoft.com/en-us/download/details.aspx?id=52367.\n",
    "\n",
    "The data needed for this notebook is a subset of the original dataset.\n",
    "The file name is 'geolife_sample_mini.csv'\n",
    "\n",
    "\n",
    "The first part of the notebook is inspired by the tutorial of scikit mobility.\n",
    "\n",
    "**scikit-mobility** is publicly available on GitHub at the following link: https://scikit-mobility.github.io/scikit-mobility/. The documentation describing all the classes and functions of scikit-mobility is available at https://scikit-mobility.github.io/scikit-mobility/.\n",
    "Authors:\n",
    "**Luca Pappalardo**, ISTI-CNR, Italy\n",
    "**Filippo Simini**, University of Bristol, UK\n",
    "**Gianni Barlacchi**, FBK, Italy and Amazon, Germany\n",
    "**Roberto Pellungrini**, University of Pisa, Italy\n",
    "\n",
    "\n",
    "You can find the publicaton linked to the github library here https://arxiv.org/abs/1907.07062 "
   ]
  },
  {
   "cell_type": "code",
   "execution_count": 1,
   "id": "a562fef0",
   "metadata": {},
   "outputs": [],
   "source": [
    "#import the needed libraries\n",
    "import skmob\n",
    "import geopandas as gpd\n",
    "from skmob.preprocessing import detection, clustering\n",
    "import numpy as np\n",
    "import matplotlib.pyplot as plt\n",
    "import pandas as pd"
   ]
  },
  {
   "cell_type": "code",
   "execution_count": 108,
   "id": "e51a857a",
   "metadata": {},
   "outputs": [
    {
     "data": {
      "text/html": [
       "<div>\n",
       "<style scoped>\n",
       "    .dataframe tbody tr th:only-of-type {\n",
       "        vertical-align: middle;\n",
       "    }\n",
       "\n",
       "    .dataframe tbody tr th {\n",
       "        vertical-align: top;\n",
       "    }\n",
       "\n",
       "    .dataframe thead th {\n",
       "        text-align: right;\n",
       "    }\n",
       "</style>\n",
       "<table border=\"1\" class=\"dataframe\">\n",
       "  <thead>\n",
       "    <tr style=\"text-align: right;\">\n",
       "      <th></th>\n",
       "      <th>lat</th>\n",
       "      <th>lng</th>\n",
       "      <th>datetime</th>\n",
       "      <th>uid</th>\n",
       "    </tr>\n",
       "  </thead>\n",
       "  <tbody>\n",
       "    <tr>\n",
       "      <th>0</th>\n",
       "      <td>39.974292</td>\n",
       "      <td>116.399592</td>\n",
       "      <td>2009-01-03 01:21:35</td>\n",
       "      <td>135</td>\n",
       "    </tr>\n",
       "    <tr>\n",
       "      <th>1</th>\n",
       "      <td>39.974309</td>\n",
       "      <td>116.399523</td>\n",
       "      <td>2009-01-03 01:21:36</td>\n",
       "      <td>135</td>\n",
       "    </tr>\n",
       "    <tr>\n",
       "      <th>2</th>\n",
       "      <td>39.974320</td>\n",
       "      <td>116.399588</td>\n",
       "      <td>2009-01-03 01:21:38</td>\n",
       "      <td>135</td>\n",
       "    </tr>\n",
       "    <tr>\n",
       "      <th>3</th>\n",
       "      <td>39.974365</td>\n",
       "      <td>116.399730</td>\n",
       "      <td>2009-01-03 01:21:39</td>\n",
       "      <td>135</td>\n",
       "    </tr>\n",
       "    <tr>\n",
       "      <th>4</th>\n",
       "      <td>39.974391</td>\n",
       "      <td>116.399782</td>\n",
       "      <td>2009-01-03 01:21:42</td>\n",
       "      <td>135</td>\n",
       "    </tr>\n",
       "    <tr>\n",
       "      <th>...</th>\n",
       "      <td>...</td>\n",
       "      <td>...</td>\n",
       "      <td>...</td>\n",
       "      <td>...</td>\n",
       "    </tr>\n",
       "    <tr>\n",
       "      <th>1387383</th>\n",
       "      <td>39.973342</td>\n",
       "      <td>116.331822</td>\n",
       "      <td>2009-03-07 01:43:43</td>\n",
       "      <td>343</td>\n",
       "    </tr>\n",
       "    <tr>\n",
       "      <th>1387384</th>\n",
       "      <td>39.973344</td>\n",
       "      <td>116.331795</td>\n",
       "      <td>2009-03-07 01:43:48</td>\n",
       "      <td>343</td>\n",
       "    </tr>\n",
       "    <tr>\n",
       "      <th>1387385</th>\n",
       "      <td>39.973362</td>\n",
       "      <td>116.331783</td>\n",
       "      <td>2009-03-07 01:43:53</td>\n",
       "      <td>343</td>\n",
       "    </tr>\n",
       "    <tr>\n",
       "      <th>1387386</th>\n",
       "      <td>39.973414</td>\n",
       "      <td>116.331785</td>\n",
       "      <td>2009-03-07 01:43:58</td>\n",
       "      <td>343</td>\n",
       "    </tr>\n",
       "    <tr>\n",
       "      <th>1387387</th>\n",
       "      <td>39.973511</td>\n",
       "      <td>116.331855</td>\n",
       "      <td>2009-03-07 01:44:03</td>\n",
       "      <td>343</td>\n",
       "    </tr>\n",
       "  </tbody>\n",
       "</table>\n",
       "<p>1387388 rows × 4 columns</p>\n",
       "</div>"
      ],
      "text/plain": [
       "               lat         lng            datetime  uid\n",
       "0        39.974292  116.399592 2009-01-03 01:21:35  135\n",
       "1        39.974309  116.399523 2009-01-03 01:21:36  135\n",
       "2        39.974320  116.399588 2009-01-03 01:21:38  135\n",
       "3        39.974365  116.399730 2009-01-03 01:21:39  135\n",
       "4        39.974391  116.399782 2009-01-03 01:21:42  135\n",
       "...            ...         ...                 ...  ...\n",
       "1387383  39.973342  116.331822 2009-03-07 01:43:43  343\n",
       "1387384  39.973344  116.331795 2009-03-07 01:43:48  343\n",
       "1387385  39.973362  116.331783 2009-03-07 01:43:53  343\n",
       "1387386  39.973414  116.331785 2009-03-07 01:43:58  343\n",
       "1387387  39.973511  116.331855 2009-03-07 01:44:03  343\n",
       "\n",
       "[1387388 rows x 4 columns]"
      ]
     },
     "execution_count": 108,
     "metadata": {},
     "output_type": "execute_result"
    }
   ],
   "source": [
    "#loading data data\n",
    "tdf = skmob.TrajDataFrame.from_file('geolife_sample_mini.csv')\n",
    "tdf"
   ]
  },
  {
   "cell_type": "code",
   "execution_count": 136,
   "id": "166b2fae",
   "metadata": {},
   "outputs": [
    {
     "ename": "TypeError",
     "evalue": "an integer is required (got type list)",
     "output_type": "error",
     "traceback": [
      "\u001b[1;31m---------------------------------------------------------------------------\u001b[0m",
      "\u001b[1;31mTypeError\u001b[0m                                 Traceback (most recent call last)",
      "\u001b[1;32m<ipython-input-136-3b694a302170>\u001b[0m in \u001b[0;36m<module>\u001b[1;34m\u001b[0m\n\u001b[0;32m      1\u001b[0m \u001b[1;32mimport\u001b[0m \u001b[0mdatetime\u001b[0m\u001b[1;33m\u001b[0m\u001b[1;33m\u001b[0m\u001b[0m\n\u001b[1;32m----> 2\u001b[1;33m \u001b[0mb\u001b[0m \u001b[1;33m=\u001b[0m \u001b[0mdatetime\u001b[0m\u001b[1;33m.\u001b[0m\u001b[0mdatetime\u001b[0m\u001b[1;33m(\u001b[0m\u001b[1;33m[\u001b[0m\u001b[1;36m2009\u001b[0m\u001b[1;33m,\u001b[0m \u001b[1;36m1\u001b[0m\u001b[1;33m,\u001b[0m \u001b[1;36m3\u001b[0m\u001b[1;33m,\u001b[0m \u001b[1;36m1\u001b[0m\u001b[1;33m,\u001b[0m \u001b[1;36m21\u001b[0m\u001b[1;33m,\u001b[0m \u001b[1;36m35\u001b[0m\u001b[1;33m]\u001b[0m\u001b[1;33m)\u001b[0m\u001b[1;33m\u001b[0m\u001b[1;33m\u001b[0m\u001b[0m\n\u001b[0m\u001b[0;32m      3\u001b[0m \u001b[0mprint\u001b[0m\u001b[1;33m(\u001b[0m\u001b[0mb\u001b[0m\u001b[1;33m)\u001b[0m\u001b[1;33m\u001b[0m\u001b[1;33m\u001b[0m\u001b[0m\n",
      "\u001b[1;31mTypeError\u001b[0m: an integer is required (got type list)"
     ]
    }
   ],
   "source": [
    "import datetime\n",
    "b = datetime.datetime([2009, 1, 3, 1, 21, 35])\n",
    "print(b)"
   ]
  },
  {
   "cell_type": "code",
   "execution_count": 149,
   "id": "3401d631",
   "metadata": {},
   "outputs": [
    {
     "data": {
      "text/plain": [
       "<module 'pandas' from 'C:\\\\Users\\\\cj413\\\\AppData\\\\Local\\\\Continuum\\\\anaconda3\\\\lib\\\\site-packages\\\\pandas\\\\__init__.py'>"
      ]
     },
     "execution_count": 149,
     "metadata": {},
     "output_type": "execute_result"
    }
   ],
   "source": [
    "pd"
   ]
  },
  {
   "cell_type": "code",
   "execution_count": 138,
   "id": "9d9c3515",
   "metadata": {},
   "outputs": [],
   "source": [
    "def to_datetime(x):\n",
    "    date = [int(d) for d in x[0].split('-')]\n",
    "    hour = [int(h) for h in x[1].split(':')]\n",
    "    return datetime.datetime(date[0], date[1], date[2], hour[0], hour[1], hour[2])"
   ]
  },
  {
   "cell_type": "code",
   "execution_count": 145,
   "id": "eb8e0a41",
   "metadata": {},
   "outputs": [
    {
     "data": {
      "text/html": [
       "<div>\n",
       "<style scoped>\n",
       "    .dataframe tbody tr th:only-of-type {\n",
       "        vertical-align: middle;\n",
       "    }\n",
       "\n",
       "    .dataframe tbody tr th {\n",
       "        vertical-align: top;\n",
       "    }\n",
       "\n",
       "    .dataframe thead th {\n",
       "        text-align: right;\n",
       "    }\n",
       "</style>\n",
       "<table border=\"1\" class=\"dataframe\">\n",
       "  <thead>\n",
       "    <tr style=\"text-align: right;\">\n",
       "      <th></th>\n",
       "      <th>lat</th>\n",
       "      <th>lng</th>\n",
       "      <th>uid</th>\n",
       "      <th>492</th>\n",
       "      <th>39744.1201851852</th>\n",
       "      <th>2008-10-23</th>\n",
       "      <th>02:53:04</th>\n",
       "      <th>datetime</th>\n",
       "    </tr>\n",
       "  </thead>\n",
       "  <tbody>\n",
       "    <tr>\n",
       "      <th>0</th>\n",
       "      <td>39.984683</td>\n",
       "      <td>116.318450</td>\n",
       "      <td>0</td>\n",
       "      <td>492</td>\n",
       "      <td>39744.120255</td>\n",
       "      <td>2008-10-23</td>\n",
       "      <td>02:53:10</td>\n",
       "      <td>2008-10-23 02:53:10</td>\n",
       "    </tr>\n",
       "    <tr>\n",
       "      <th>1</th>\n",
       "      <td>39.984686</td>\n",
       "      <td>116.318417</td>\n",
       "      <td>0</td>\n",
       "      <td>492</td>\n",
       "      <td>39744.120313</td>\n",
       "      <td>2008-10-23</td>\n",
       "      <td>02:53:15</td>\n",
       "      <td>2008-10-23 02:53:15</td>\n",
       "    </tr>\n",
       "    <tr>\n",
       "      <th>2</th>\n",
       "      <td>39.984688</td>\n",
       "      <td>116.318385</td>\n",
       "      <td>0</td>\n",
       "      <td>492</td>\n",
       "      <td>39744.120370</td>\n",
       "      <td>2008-10-23</td>\n",
       "      <td>02:53:20</td>\n",
       "      <td>2008-10-23 02:53:20</td>\n",
       "    </tr>\n",
       "    <tr>\n",
       "      <th>3</th>\n",
       "      <td>39.984655</td>\n",
       "      <td>116.318263</td>\n",
       "      <td>0</td>\n",
       "      <td>492</td>\n",
       "      <td>39744.120428</td>\n",
       "      <td>2008-10-23</td>\n",
       "      <td>02:53:25</td>\n",
       "      <td>2008-10-23 02:53:25</td>\n",
       "    </tr>\n",
       "    <tr>\n",
       "      <th>4</th>\n",
       "      <td>39.984611</td>\n",
       "      <td>116.318026</td>\n",
       "      <td>0</td>\n",
       "      <td>493</td>\n",
       "      <td>39744.120486</td>\n",
       "      <td>2008-10-23</td>\n",
       "      <td>02:53:30</td>\n",
       "      <td>2008-10-23 02:53:30</td>\n",
       "    </tr>\n",
       "    <tr>\n",
       "      <th>...</th>\n",
       "      <td>...</td>\n",
       "      <td>...</td>\n",
       "      <td>...</td>\n",
       "      <td>...</td>\n",
       "      <td>...</td>\n",
       "      <td>...</td>\n",
       "      <td>...</td>\n",
       "      <td>...</td>\n",
       "    </tr>\n",
       "    <tr>\n",
       "      <th>902</th>\n",
       "      <td>40.009172</td>\n",
       "      <td>116.321211</td>\n",
       "      <td>0</td>\n",
       "      <td>88</td>\n",
       "      <td>39744.465880</td>\n",
       "      <td>2008-10-23</td>\n",
       "      <td>11:10:52</td>\n",
       "      <td>2008-10-23 11:10:52</td>\n",
       "    </tr>\n",
       "    <tr>\n",
       "      <th>903</th>\n",
       "      <td>40.009204</td>\n",
       "      <td>116.321130</td>\n",
       "      <td>0</td>\n",
       "      <td>86</td>\n",
       "      <td>39744.465937</td>\n",
       "      <td>2008-10-23</td>\n",
       "      <td>11:10:57</td>\n",
       "      <td>2008-10-23 11:10:57</td>\n",
       "    </tr>\n",
       "    <tr>\n",
       "      <th>904</th>\n",
       "      <td>40.009243</td>\n",
       "      <td>116.321050</td>\n",
       "      <td>0</td>\n",
       "      <td>85</td>\n",
       "      <td>39744.465995</td>\n",
       "      <td>2008-10-23</td>\n",
       "      <td>11:11:02</td>\n",
       "      <td>2008-10-23 11:11:02</td>\n",
       "    </tr>\n",
       "    <tr>\n",
       "      <th>905</th>\n",
       "      <td>40.009269</td>\n",
       "      <td>116.320978</td>\n",
       "      <td>0</td>\n",
       "      <td>84</td>\n",
       "      <td>39744.466053</td>\n",
       "      <td>2008-10-23</td>\n",
       "      <td>11:11:07</td>\n",
       "      <td>2008-10-23 11:11:07</td>\n",
       "    </tr>\n",
       "    <tr>\n",
       "      <th>906</th>\n",
       "      <td>40.009328</td>\n",
       "      <td>116.320887</td>\n",
       "      <td>0</td>\n",
       "      <td>83</td>\n",
       "      <td>39744.466111</td>\n",
       "      <td>2008-10-23</td>\n",
       "      <td>11:11:12</td>\n",
       "      <td>2008-10-23 11:11:12</td>\n",
       "    </tr>\n",
       "  </tbody>\n",
       "</table>\n",
       "<p>907 rows × 8 columns</p>\n",
       "</div>"
      ],
      "text/plain": [
       "           lat         lng  uid  492  39744.1201851852  2008-10-23  02:53:04  \\\n",
       "0    39.984683  116.318450    0  492      39744.120255  2008-10-23  02:53:10   \n",
       "1    39.984686  116.318417    0  492      39744.120313  2008-10-23  02:53:15   \n",
       "2    39.984688  116.318385    0  492      39744.120370  2008-10-23  02:53:20   \n",
       "3    39.984655  116.318263    0  492      39744.120428  2008-10-23  02:53:25   \n",
       "4    39.984611  116.318026    0  493      39744.120486  2008-10-23  02:53:30   \n",
       "..         ...         ...  ...  ...               ...         ...       ...   \n",
       "902  40.009172  116.321211    0   88      39744.465880  2008-10-23  11:10:52   \n",
       "903  40.009204  116.321130    0   86      39744.465937  2008-10-23  11:10:57   \n",
       "904  40.009243  116.321050    0   85      39744.465995  2008-10-23  11:11:02   \n",
       "905  40.009269  116.320978    0   84      39744.466053  2008-10-23  11:11:07   \n",
       "906  40.009328  116.320887    0   83      39744.466111  2008-10-23  11:11:12   \n",
       "\n",
       "               datetime  \n",
       "0   2008-10-23 02:53:10  \n",
       "1   2008-10-23 02:53:15  \n",
       "2   2008-10-23 02:53:20  \n",
       "3   2008-10-23 02:53:25  \n",
       "4   2008-10-23 02:53:30  \n",
       "..                  ...  \n",
       "902 2008-10-23 11:10:52  \n",
       "903 2008-10-23 11:10:57  \n",
       "904 2008-10-23 11:11:02  \n",
       "905 2008-10-23 11:11:07  \n",
       "906 2008-10-23 11:11:12  \n",
       "\n",
       "[907 rows x 8 columns]"
      ]
     },
     "execution_count": 145,
     "metadata": {},
     "output_type": "execute_result"
    }
   ],
   "source": [
    "f = 'C:/Users/cj413/Downloads/Geolife Trajectories 1.3/Data/000/Trajectory/20081023025304.plt'\n",
    "tdf = skmob.TrajDataFrame.from_file(f)\n",
    "tdf['datetime'] = tdf[['2008-10-23', '02:53:04']].apply(lambda x: to_datetime(x), axis=1)\n",
    "tdf = tdf.rename(columns={\"39.984702\": \"lat\", \"116.318417\": \"lng\", \"0\":\"uid\"})\n",
    "tdf"
   ]
  },
  {
   "cell_type": "code",
   "execution_count": 174,
   "id": "ef947769",
   "metadata": {},
   "outputs": [
    {
     "data": {
      "text/html": [
       "<div>\n",
       "<style scoped>\n",
       "    .dataframe tbody tr th:only-of-type {\n",
       "        vertical-align: middle;\n",
       "    }\n",
       "\n",
       "    .dataframe tbody tr th {\n",
       "        vertical-align: top;\n",
       "    }\n",
       "\n",
       "    .dataframe thead th {\n",
       "        text-align: right;\n",
       "    }\n",
       "</style>\n",
       "<table border=\"1\" class=\"dataframe\">\n",
       "  <thead>\n",
       "    <tr style=\"text-align: right;\">\n",
       "      <th></th>\n",
       "      <th></th>\n",
       "      <th></th>\n",
       "      <th>lat</th>\n",
       "      <th>lng</th>\n",
       "      <th>alt</th>\n",
       "      <th>days</th>\n",
       "    </tr>\n",
       "    <tr>\n",
       "      <th>uid</th>\n",
       "      <th>date</th>\n",
       "      <th>time</th>\n",
       "      <th></th>\n",
       "      <th></th>\n",
       "      <th></th>\n",
       "      <th></th>\n",
       "    </tr>\n",
       "  </thead>\n",
       "  <tbody>\n",
       "    <tr>\n",
       "      <th rowspan=\"11\" valign=\"top\">0</th>\n",
       "      <th rowspan=\"11\" valign=\"top\">2008-10-23</th>\n",
       "      <th>02:53:04</th>\n",
       "      <td>39.984702</td>\n",
       "      <td>116.318417</td>\n",
       "      <td>492</td>\n",
       "      <td>39744.120185</td>\n",
       "    </tr>\n",
       "    <tr>\n",
       "      <th>02:53:10</th>\n",
       "      <td>39.984683</td>\n",
       "      <td>116.318450</td>\n",
       "      <td>492</td>\n",
       "      <td>39744.120255</td>\n",
       "    </tr>\n",
       "    <tr>\n",
       "      <th>02:53:15</th>\n",
       "      <td>39.984686</td>\n",
       "      <td>116.318417</td>\n",
       "      <td>492</td>\n",
       "      <td>39744.120313</td>\n",
       "    </tr>\n",
       "    <tr>\n",
       "      <th>02:53:20</th>\n",
       "      <td>39.984688</td>\n",
       "      <td>116.318385</td>\n",
       "      <td>492</td>\n",
       "      <td>39744.120370</td>\n",
       "    </tr>\n",
       "    <tr>\n",
       "      <th>02:53:25</th>\n",
       "      <td>39.984655</td>\n",
       "      <td>116.318263</td>\n",
       "      <td>492</td>\n",
       "      <td>39744.120428</td>\n",
       "    </tr>\n",
       "    <tr>\n",
       "      <th>...</th>\n",
       "      <td>...</td>\n",
       "      <td>...</td>\n",
       "      <td>...</td>\n",
       "      <td>...</td>\n",
       "    </tr>\n",
       "    <tr>\n",
       "      <th>11:10:52</th>\n",
       "      <td>40.009172</td>\n",
       "      <td>116.321211</td>\n",
       "      <td>88</td>\n",
       "      <td>39744.465880</td>\n",
       "    </tr>\n",
       "    <tr>\n",
       "      <th>11:10:57</th>\n",
       "      <td>40.009204</td>\n",
       "      <td>116.321130</td>\n",
       "      <td>86</td>\n",
       "      <td>39744.465937</td>\n",
       "    </tr>\n",
       "    <tr>\n",
       "      <th>11:11:02</th>\n",
       "      <td>40.009243</td>\n",
       "      <td>116.321050</td>\n",
       "      <td>85</td>\n",
       "      <td>39744.465995</td>\n",
       "    </tr>\n",
       "    <tr>\n",
       "      <th>11:11:07</th>\n",
       "      <td>40.009269</td>\n",
       "      <td>116.320978</td>\n",
       "      <td>84</td>\n",
       "      <td>39744.466053</td>\n",
       "    </tr>\n",
       "    <tr>\n",
       "      <th>11:11:12</th>\n",
       "      <td>40.009328</td>\n",
       "      <td>116.320887</td>\n",
       "      <td>83</td>\n",
       "      <td>39744.466111</td>\n",
       "    </tr>\n",
       "  </tbody>\n",
       "</table>\n",
       "<p>908 rows × 4 columns</p>\n",
       "</div>"
      ],
      "text/plain": [
       "                               lat         lng  alt          days\n",
       "uid date       time                                              \n",
       "0   2008-10-23 02:53:04  39.984702  116.318417  492  39744.120185\n",
       "               02:53:10  39.984683  116.318450  492  39744.120255\n",
       "               02:53:15  39.984686  116.318417  492  39744.120313\n",
       "               02:53:20  39.984688  116.318385  492  39744.120370\n",
       "               02:53:25  39.984655  116.318263  492  39744.120428\n",
       "...                            ...         ...  ...           ...\n",
       "               11:10:52  40.009172  116.321211   88  39744.465880\n",
       "               11:10:57  40.009204  116.321130   86  39744.465937\n",
       "               11:11:02  40.009243  116.321050   85  39744.465995\n",
       "               11:11:07  40.009269  116.320978   84  39744.466053\n",
       "               11:11:12  40.009328  116.320887   83  39744.466111\n",
       "\n",
       "[908 rows x 4 columns]"
      ]
     },
     "execution_count": 174,
     "metadata": {},
     "output_type": "execute_result"
    }
   ],
   "source": [
    "tdf.groupby(['uid', 'date', 'time']).mean()"
   ]
  },
  {
   "cell_type": "code",
   "execution_count": 168,
   "id": "6ad727df",
   "metadata": {},
   "outputs": [
    {
     "data": {
      "text/html": [
       "<div>\n",
       "<style scoped>\n",
       "    .dataframe tbody tr th:only-of-type {\n",
       "        vertical-align: middle;\n",
       "    }\n",
       "\n",
       "    .dataframe tbody tr th {\n",
       "        vertical-align: top;\n",
       "    }\n",
       "\n",
       "    .dataframe thead th {\n",
       "        text-align: right;\n",
       "    }\n",
       "</style>\n",
       "<table border=\"1\" class=\"dataframe\">\n",
       "  <thead>\n",
       "    <tr style=\"text-align: right;\">\n",
       "      <th></th>\n",
       "      <th>lat</th>\n",
       "      <th>lng</th>\n",
       "      <th>uid</th>\n",
       "      <th>alt</th>\n",
       "      <th>days</th>\n",
       "      <th>date</th>\n",
       "      <th>time</th>\n",
       "      <th>datetime</th>\n",
       "    </tr>\n",
       "  </thead>\n",
       "  <tbody>\n",
       "    <tr>\n",
       "      <th>0</th>\n",
       "      <td>39.984702</td>\n",
       "      <td>116.318417</td>\n",
       "      <td>0</td>\n",
       "      <td>492</td>\n",
       "      <td>39744.120185</td>\n",
       "      <td>2008-10-23</td>\n",
       "      <td>02:53:04</td>\n",
       "      <td>2008-10-23 02:53:04</td>\n",
       "    </tr>\n",
       "    <tr>\n",
       "      <th>1</th>\n",
       "      <td>39.984683</td>\n",
       "      <td>116.318450</td>\n",
       "      <td>0</td>\n",
       "      <td>492</td>\n",
       "      <td>39744.120255</td>\n",
       "      <td>2008-10-23</td>\n",
       "      <td>02:53:10</td>\n",
       "      <td>2008-10-23 02:53:10</td>\n",
       "    </tr>\n",
       "    <tr>\n",
       "      <th>2</th>\n",
       "      <td>39.984686</td>\n",
       "      <td>116.318417</td>\n",
       "      <td>0</td>\n",
       "      <td>492</td>\n",
       "      <td>39744.120313</td>\n",
       "      <td>2008-10-23</td>\n",
       "      <td>02:53:15</td>\n",
       "      <td>2008-10-23 02:53:15</td>\n",
       "    </tr>\n",
       "    <tr>\n",
       "      <th>3</th>\n",
       "      <td>39.984688</td>\n",
       "      <td>116.318385</td>\n",
       "      <td>0</td>\n",
       "      <td>492</td>\n",
       "      <td>39744.120370</td>\n",
       "      <td>2008-10-23</td>\n",
       "      <td>02:53:20</td>\n",
       "      <td>2008-10-23 02:53:20</td>\n",
       "    </tr>\n",
       "    <tr>\n",
       "      <th>4</th>\n",
       "      <td>39.984655</td>\n",
       "      <td>116.318263</td>\n",
       "      <td>0</td>\n",
       "      <td>492</td>\n",
       "      <td>39744.120428</td>\n",
       "      <td>2008-10-23</td>\n",
       "      <td>02:53:25</td>\n",
       "      <td>2008-10-23 02:53:25</td>\n",
       "    </tr>\n",
       "    <tr>\n",
       "      <th>...</th>\n",
       "      <td>...</td>\n",
       "      <td>...</td>\n",
       "      <td>...</td>\n",
       "      <td>...</td>\n",
       "      <td>...</td>\n",
       "      <td>...</td>\n",
       "      <td>...</td>\n",
       "      <td>...</td>\n",
       "    </tr>\n",
       "    <tr>\n",
       "      <th>903</th>\n",
       "      <td>40.009172</td>\n",
       "      <td>116.321211</td>\n",
       "      <td>0</td>\n",
       "      <td>88</td>\n",
       "      <td>39744.465880</td>\n",
       "      <td>2008-10-23</td>\n",
       "      <td>11:10:52</td>\n",
       "      <td>2008-10-23 11:10:52</td>\n",
       "    </tr>\n",
       "    <tr>\n",
       "      <th>904</th>\n",
       "      <td>40.009204</td>\n",
       "      <td>116.321130</td>\n",
       "      <td>0</td>\n",
       "      <td>86</td>\n",
       "      <td>39744.465937</td>\n",
       "      <td>2008-10-23</td>\n",
       "      <td>11:10:57</td>\n",
       "      <td>2008-10-23 11:10:57</td>\n",
       "    </tr>\n",
       "    <tr>\n",
       "      <th>905</th>\n",
       "      <td>40.009243</td>\n",
       "      <td>116.321050</td>\n",
       "      <td>0</td>\n",
       "      <td>85</td>\n",
       "      <td>39744.465995</td>\n",
       "      <td>2008-10-23</td>\n",
       "      <td>11:11:02</td>\n",
       "      <td>2008-10-23 11:11:02</td>\n",
       "    </tr>\n",
       "    <tr>\n",
       "      <th>906</th>\n",
       "      <td>40.009269</td>\n",
       "      <td>116.320978</td>\n",
       "      <td>0</td>\n",
       "      <td>84</td>\n",
       "      <td>39744.466053</td>\n",
       "      <td>2008-10-23</td>\n",
       "      <td>11:11:07</td>\n",
       "      <td>2008-10-23 11:11:07</td>\n",
       "    </tr>\n",
       "    <tr>\n",
       "      <th>907</th>\n",
       "      <td>40.009328</td>\n",
       "      <td>116.320887</td>\n",
       "      <td>0</td>\n",
       "      <td>83</td>\n",
       "      <td>39744.466111</td>\n",
       "      <td>2008-10-23</td>\n",
       "      <td>11:11:12</td>\n",
       "      <td>2008-10-23 11:11:12</td>\n",
       "    </tr>\n",
       "  </tbody>\n",
       "</table>\n",
       "<p>908 rows × 8 columns</p>\n",
       "</div>"
      ],
      "text/plain": [
       "           lat         lng  uid  alt          days        date      time  \\\n",
       "0    39.984702  116.318417    0  492  39744.120185  2008-10-23  02:53:04   \n",
       "1    39.984683  116.318450    0  492  39744.120255  2008-10-23  02:53:10   \n",
       "2    39.984686  116.318417    0  492  39744.120313  2008-10-23  02:53:15   \n",
       "3    39.984688  116.318385    0  492  39744.120370  2008-10-23  02:53:20   \n",
       "4    39.984655  116.318263    0  492  39744.120428  2008-10-23  02:53:25   \n",
       "..         ...         ...  ...  ...           ...         ...       ...   \n",
       "903  40.009172  116.321211    0   88  39744.465880  2008-10-23  11:10:52   \n",
       "904  40.009204  116.321130    0   86  39744.465937  2008-10-23  11:10:57   \n",
       "905  40.009243  116.321050    0   85  39744.465995  2008-10-23  11:11:02   \n",
       "906  40.009269  116.320978    0   84  39744.466053  2008-10-23  11:11:07   \n",
       "907  40.009328  116.320887    0   83  39744.466111  2008-10-23  11:11:12   \n",
       "\n",
       "               datetime  \n",
       "0   2008-10-23 02:53:04  \n",
       "1   2008-10-23 02:53:10  \n",
       "2   2008-10-23 02:53:15  \n",
       "3   2008-10-23 02:53:20  \n",
       "4   2008-10-23 02:53:25  \n",
       "..                  ...  \n",
       "903 2008-10-23 11:10:52  \n",
       "904 2008-10-23 11:10:57  \n",
       "905 2008-10-23 11:11:02  \n",
       "906 2008-10-23 11:11:07  \n",
       "907 2008-10-23 11:11:12  \n",
       "\n",
       "[908 rows x 8 columns]"
      ]
     },
     "execution_count": 168,
     "metadata": {},
     "output_type": "execute_result"
    }
   ],
   "source": [
    "df = pd.read_csv(f, names=['lat', 'long', 'user', 'alt', 'days', 'date', 'time'], index_col=False)\n",
    "df['datetime'] = df[['date', 'time']].apply(lambda x: to_datetime(x), axis=1)\n",
    "tdf = skmob.TrajDataFrame(df, latitude='lat', longitude ='long', user_id='user',\n",
    "                         datetime='datetime')\n",
    "tdf\n"
   ]
  },
  {
   "cell_type": "code",
   "execution_count": null,
   "id": "d8c211c9",
   "metadata": {},
   "outputs": [],
   "source": [
    "# f = 'C:/Users/cj413/Downloads/Geolife Trajectories 1.3/Data/000/Trajectory/20081023025304.plt'\n",
    "# df = pd.read_csv(f, head=[])\n",
    "# tdf = skmob.TrajDataFrame.from_file(f)\n",
    "# tdf['datetime'] = tdf[['2008-10-23', '02:53:04']].apply(lambda x: to_datetime(x), axis=1)\n",
    "# tdf = tdf.rename(columns={\"39.984702\": \"lat\", \"116.318417\": \"lng\", \"0\":\"uid\"})\n",
    "# tdf"
   ]
  },
  {
   "cell_type": "code",
   "execution_count": 83,
   "id": "f5e13e50",
   "metadata": {},
   "outputs": [],
   "source": [
    "# tdf=tdf[(tdf['lat']<40.35) & (tdf['lat']>39.7)]\n",
    "# tdf=tdf[(tdf['lng']<116.8) & (tdf['lng']>116)]\n",
    "# tdf['lng'].min()"
   ]
  },
  {
   "cell_type": "code",
   "execution_count": 84,
   "id": "b2afb6dd",
   "metadata": {},
   "outputs": [
    {
     "data": {
      "text/html": [
       "<div>\n",
       "<style scoped>\n",
       "    .dataframe tbody tr th:only-of-type {\n",
       "        vertical-align: middle;\n",
       "    }\n",
       "\n",
       "    .dataframe tbody tr th {\n",
       "        vertical-align: top;\n",
       "    }\n",
       "\n",
       "    .dataframe thead th {\n",
       "        text-align: right;\n",
       "    }\n",
       "</style>\n",
       "<table border=\"1\" class=\"dataframe\">\n",
       "  <thead>\n",
       "    <tr style=\"text-align: right;\">\n",
       "      <th></th>\n",
       "      <th>lat</th>\n",
       "      <th>lng</th>\n",
       "      <th>datetime</th>\n",
       "      <th>uid</th>\n",
       "    </tr>\n",
       "  </thead>\n",
       "  <tbody>\n",
       "    <tr>\n",
       "      <th>518400</th>\n",
       "      <td>34.258638</td>\n",
       "      <td>108.991897</td>\n",
       "      <td>2008-05-09 23:49:00</td>\n",
       "      <td>172</td>\n",
       "    </tr>\n",
       "    <tr>\n",
       "      <th>518401</th>\n",
       "      <td>34.258400</td>\n",
       "      <td>108.991885</td>\n",
       "      <td>2008-05-09 23:49:02</td>\n",
       "      <td>172</td>\n",
       "    </tr>\n",
       "    <tr>\n",
       "      <th>518402</th>\n",
       "      <td>34.258112</td>\n",
       "      <td>108.991945</td>\n",
       "      <td>2008-05-09 23:49:04</td>\n",
       "      <td>172</td>\n",
       "    </tr>\n",
       "    <tr>\n",
       "      <th>518403</th>\n",
       "      <td>34.257808</td>\n",
       "      <td>108.992017</td>\n",
       "      <td>2008-05-09 23:49:06</td>\n",
       "      <td>172</td>\n",
       "    </tr>\n",
       "    <tr>\n",
       "      <th>518404</th>\n",
       "      <td>34.257553</td>\n",
       "      <td>108.992042</td>\n",
       "      <td>2008-05-09 23:49:08</td>\n",
       "      <td>172</td>\n",
       "    </tr>\n",
       "    <tr>\n",
       "      <th>...</th>\n",
       "      <td>...</td>\n",
       "      <td>...</td>\n",
       "      <td>...</td>\n",
       "      <td>...</td>\n",
       "    </tr>\n",
       "    <tr>\n",
       "      <th>547864</th>\n",
       "      <td>34.269777</td>\n",
       "      <td>108.990943</td>\n",
       "      <td>2008-05-09 11:18:14</td>\n",
       "      <td>172</td>\n",
       "    </tr>\n",
       "    <tr>\n",
       "      <th>547865</th>\n",
       "      <td>34.269795</td>\n",
       "      <td>108.990967</td>\n",
       "      <td>2008-05-09 11:18:19</td>\n",
       "      <td>172</td>\n",
       "    </tr>\n",
       "    <tr>\n",
       "      <th>547866</th>\n",
       "      <td>34.269737</td>\n",
       "      <td>108.990703</td>\n",
       "      <td>2008-05-09 11:18:24</td>\n",
       "      <td>172</td>\n",
       "    </tr>\n",
       "    <tr>\n",
       "      <th>547867</th>\n",
       "      <td>34.269722</td>\n",
       "      <td>108.990475</td>\n",
       "      <td>2008-05-09 11:18:29</td>\n",
       "      <td>172</td>\n",
       "    </tr>\n",
       "    <tr>\n",
       "      <th>547868</th>\n",
       "      <td>34.269713</td>\n",
       "      <td>108.990328</td>\n",
       "      <td>2008-05-09 11:18:34</td>\n",
       "      <td>172</td>\n",
       "    </tr>\n",
       "  </tbody>\n",
       "</table>\n",
       "<p>6807 rows × 4 columns</p>\n",
       "</div>"
      ],
      "text/plain": [
       "              lat         lng            datetime  uid\n",
       "518400  34.258638  108.991897 2008-05-09 23:49:00  172\n",
       "518401  34.258400  108.991885 2008-05-09 23:49:02  172\n",
       "518402  34.258112  108.991945 2008-05-09 23:49:04  172\n",
       "518403  34.257808  108.992017 2008-05-09 23:49:06  172\n",
       "518404  34.257553  108.992042 2008-05-09 23:49:08  172\n",
       "...           ...         ...                 ...  ...\n",
       "547864  34.269777  108.990943 2008-05-09 11:18:14  172\n",
       "547865  34.269795  108.990967 2008-05-09 11:18:19  172\n",
       "547866  34.269737  108.990703 2008-05-09 11:18:24  172\n",
       "547867  34.269722  108.990475 2008-05-09 11:18:29  172\n",
       "547868  34.269713  108.990328 2008-05-09 11:18:34  172\n",
       "\n",
       "[6807 rows x 4 columns]"
      ]
     },
     "execution_count": 84,
     "metadata": {},
     "output_type": "execute_result"
    }
   ],
   "source": [
    "#Since the dataset has some position outside the city we want to filter the data.\n",
    "#in this way we can simplify the analysis\n",
    "\n",
    "# tdf=tdf[(tdf['lat']<36.) & (tdf['lat']>34.)]\n",
    "# tdf=tdf[(tdf['lng']<110) & (tdf['lng']>108)]\n",
    "# tdf"
   ]
  },
  {
   "cell_type": "code",
   "execution_count": 163,
   "id": "55a470dc",
   "metadata": {},
   "outputs": [
    {
     "data": {
      "text/plain": [
       "[0]"
      ]
     },
     "execution_count": 163,
     "metadata": {},
     "output_type": "execute_result"
    }
   ],
   "source": [
    "#check uid left\n",
    "users_id=list(set(tdf.uid))\n",
    "users_id"
   ]
  },
  {
   "cell_type": "code",
   "execution_count": 164,
   "id": "097fcede",
   "metadata": {},
   "outputs": [
    {
     "data": {
      "text/plain": [
       "{'init': 'epsg:4326'}"
      ]
     },
     "execution_count": 164,
     "metadata": {},
     "output_type": "execute_result"
    }
   ],
   "source": [
    "tdf.crs "
   ]
  },
  {
   "cell_type": "code",
   "execution_count": 166,
   "id": "44c2a1c8",
   "metadata": {},
   "outputs": [
    {
     "data": {
      "text/html": [
       "<div style=\"width:100%;\"><div style=\"position:relative;width:100%;height:0;padding-bottom:60%;\"><span style=\"color:#565656\">Make this Notebook Trusted to load map: File -> Trust Notebook</span><iframe src=\"about:blank\" style=\"position:absolute;width:100%;height:100%;left:0;top:0;border:none !important;\" data-html=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 onload=\"this.contentDocument.open();this.contentDocument.write(atob(this.getAttribute('data-html')));this.contentDocument.close();\" allowfullscreen webkitallowfullscreen mozallowfullscreen></iframe></div></div>"
      ],
      "text/plain": [
       "<folium.folium.Map at 0x2065bc99630>"
      ]
     },
     "execution_count": 166,
     "metadata": {},
     "output_type": "execute_result"
    }
   ],
   "source": [
    "#plot a trajectory\n",
    "map_f = tdf.plot_trajectory(max_users=1, start_end_markers=False)\n",
    "map_f"
   ]
  },
  {
   "cell_type": "markdown",
   "id": "71a0e679",
   "metadata": {},
   "source": [
    "Some points in a trajectory can represent Point-Of-Interests (POIs) such as schools, restau-rants, and bars, or they can represent user-specific places such as home and work locations. These points are usually called Stay Points or Stops, and they can be detected in different ways. A common approach is to apply spatial clustering algorithms to cluster trajectory points by looking at their spatial proximity (Hariharan and Toyama 2004). In scikit-mobility, the stops function, contained in the detection module, finds the stay points visited by an object. For instance, to identify the stops where the object spent at least minutes_for_a_stop minutes within a distance spatial_radius_km \\times stop_radius_factor, from a given point, we can use the following code:"
   ]
  },
  {
   "cell_type": "code",
   "execution_count": 167,
   "id": "ab198f19",
   "metadata": {
    "tags": []
   },
   "outputs": [
    {
     "name": "stderr",
     "output_type": "stream",
     "text": [
      "C:\\Users\\cj413\\AppData\\Local\\Continuum\\anaconda3\\lib\\site-packages\\skmob\\utils\\plot.py:319: UserWarning: Only the stops of the first 10 users will be plotted. Use the argument `max_users` to specify the desired number of users, or filter the TrajDataFrame.\n",
      "  warnings.warn(\"Only the stops of the first 10 users will be plotted. Use the argument `max_users` to specify the desired number of users, or filter the TrajDataFrame.\")\n"
     ]
    },
    {
     "data": {
      "text/html": [
       "<div style=\"width:100%;\"><div style=\"position:relative;width:100%;height:0;padding-bottom:60%;\"><span style=\"color:#565656\">Make this Notebook Trusted to load map: File -> Trust Notebook</span><iframe src=\"about:blank\" style=\"position:absolute;width:100%;height:100%;left:0;top:0;border:none !important;\" data-html=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 onload=\"this.contentDocument.open();this.contentDocument.write(atob(this.getAttribute('data-html')));this.contentDocument.close();\" allowfullscreen webkitallowfullscreen mozallowfullscreen></iframe></div></div>"
      ],
      "text/plain": [
       "<folium.folium.Map at 0x2065bc99630>"
      ]
     },
     "execution_count": 167,
     "metadata": {},
     "output_type": "execute_result"
    }
   ],
   "source": [
    "#stop detection\n",
    "stdf = detection.stops(tdf)\n",
    "\n",
    "cstdf = clustering.cluster(stdf)\n",
    "cstdf.plot_stops(max_users=1, map_f=map_f)"
   ]
  },
  {
   "cell_type": "code",
   "execution_count": null,
   "id": "e86bb86e",
   "metadata": {},
   "outputs": [],
   "source": []
  },
  {
   "cell_type": "code",
   "execution_count": null,
   "id": "c2bd13ea",
   "metadata": {},
   "outputs": [],
   "source": []
  },
  {
   "cell_type": "markdown",
   "id": "2b15088a",
   "metadata": {},
   "source": [
    "## Stops Analysis"
   ]
  },
  {
   "cell_type": "markdown",
   "id": "310d585c",
   "metadata": {},
   "source": [
    "Now we want to analyze better the stops!\n",
    "We will define the stops time as lenght of the stops,  and study the stop-time distribution.\n"
   ]
  },
  {
   "cell_type": "code",
   "execution_count": 88,
   "id": "02fe6532",
   "metadata": {},
   "outputs": [],
   "source": [
    "\n",
    "#Define the stop-time\n",
    "stops_all=(cstdf.leaving_datetime-cstdf.datetime).iloc()\n",
    "\n",
    "#convert in seconds\n",
    "minutes_stops=[k.seconds/60. for k in stops_all]"
   ]
  },
  {
   "cell_type": "code",
   "execution_count": 89,
   "id": "72503443",
   "metadata": {},
   "outputs": [],
   "source": [
    "a=stops_all[0]"
   ]
  },
  {
   "cell_type": "code",
   "execution_count": null,
   "id": "a866c763",
   "metadata": {},
   "outputs": [],
   "source": []
  },
  {
   "cell_type": "code",
   "execution_count": 90,
   "id": "31f17a93",
   "metadata": {},
   "outputs": [
    {
     "data": {
      "text/plain": [
       "(10, 1020)"
      ]
     },
     "execution_count": 90,
     "metadata": {},
     "output_type": "execute_result"
    },
    {
     "data": {
      "image/png": "[encoded data removed]",
      "text/plain": [
       "<Figure size 432x288 with 1 Axes>"
      ]
     },
     "metadata": {
      "needs_background": "light"
     },
     "output_type": "display_data"
    },
    {
     "data": {
      "image/png": "[encoded data removed]",
      "text/plain": [
       "<Figure size 432x288 with 1 Axes>"
      ]
     },
     "metadata": {
      "needs_background": "light"
     },
     "output_type": "display_data"
    }
   ],
   "source": [
    "#Plots the stop time\n",
    "\n",
    "bbins=np.arange(1,1000,40)\n",
    "plt.figure()\n",
    "plt.hist(minutes_stops,bins=bbins)\n",
    "plt.ylabel('# Stops')\n",
    "plt.xlabel('Minutes')\n",
    "plt.title('Stop-time')\n",
    "\n",
    "\n",
    "\n",
    "plt.figure()\n",
    "[a,b]=np.histogram(minutes_stops,bins=bbins)\n",
    "plt.plot(b[:-1],a)\n",
    "plt.yscale('log')\n",
    "plt.xscale('log')\n",
    "plt.xlabel('Log(Minute)')\n",
    "plt.ylabel('Long(# Stops)')\n",
    "plt.title('Stop-time')\n",
    "plt.xlim(10,1020)\n"
   ]
  },
  {
   "cell_type": "code",
   "execution_count": null,
   "id": "46de00fd",
   "metadata": {},
   "outputs": [],
   "source": []
  },
  {
   "cell_type": "markdown",
   "id": "235a1254",
   "metadata": {},
   "source": [
    "# Plot Users' Diary"
   ]
  },
  {
   "cell_type": "markdown",
   "id": "e9c7789a",
   "metadata": {},
   "source": [
    "The `TrajDataFrame`'s method `plot_diary` plots the time series of the locations visited by an object. If the column `uid` is present, one object identifier must be specified via the argument `user`. This method requires a `TrajDataFrame` with the column `constants.CLUSTER`, which is created by the *scikit-mobility* functions to cluster stops.\n",
    "\n",
    "The plot displays time on the *x* axis and shows a series of rectangles of different colors that represent the object's visits to the various stops. The length of a rectangle denotes the duration of the visit: the left edge marks the arrival time, the right edge marks the leaving time. The color of a rectangle denotes the stop's cluster: visits to stops that belong to the same cluster have the same color (the color code is consistent with the one used by the method `plot_stops`). A white rectangle indicates that the object is moving. We show below an example of a plot generated by the `plot_diary` method:"
   ]
  },
  {
   "cell_type": "code",
   "execution_count": 91,
   "id": "9a9d3743",
   "metadata": {},
   "outputs": [],
   "source": [
    "#defining the user list\n",
    "users_id=list(set(tdf.uid))"
   ]
  },
  {
   "cell_type": "code",
   "execution_count": null,
   "id": "033561d5",
   "metadata": {},
   "outputs": [],
   "source": []
  },
  {
   "cell_type": "code",
   "execution_count": 93,
   "id": "7a2d6f4c",
   "metadata": {},
   "outputs": [
    {
     "data": {
      "text/plain": [
       "<AxesSubplot:title={'center':'user 172'}>"
      ]
     },
     "execution_count": 93,
     "metadata": {},
     "output_type": "execute_result"
    },
    {
     "data": {
      "image/png": "[encoded data removed]",
      "text/plain": [
       "<Figure size 1440x144 with 1 Axes>"
      ]
     },
     "metadata": {
      "needs_background": "light"
     },
     "output_type": "display_data"
    }
   ],
   "source": [
    "cstdf.plot_diary(users_id[0])\n",
    "# cstdf.plot_diary(users_id[3], legend=True)"
   ]
  },
  {
   "cell_type": "code",
   "execution_count": 95,
   "id": "ce879d93",
   "metadata": {
    "collapsed": true,
    "jupyter": {
     "outputs_hidden": true
    },
    "tags": []
   },
   "outputs": [
    {
     "data": {
      "text/html": [
       "<div>\n",
       "<style scoped>\n",
       "    .dataframe tbody tr th:only-of-type {\n",
       "        vertical-align: middle;\n",
       "    }\n",
       "\n",
       "    .dataframe tbody tr th {\n",
       "        vertical-align: top;\n",
       "    }\n",
       "\n",
       "    .dataframe thead th {\n",
       "        text-align: right;\n",
       "    }\n",
       "</style>\n",
       "<table border=\"1\" class=\"dataframe\">\n",
       "  <thead>\n",
       "    <tr style=\"text-align: right;\">\n",
       "      <th></th>\n",
       "      <th>lat</th>\n",
       "      <th>lng</th>\n",
       "      <th>datetime</th>\n",
       "      <th>uid</th>\n",
       "      <th>leaving_datetime</th>\n",
       "      <th>cluster</th>\n",
       "    </tr>\n",
       "  </thead>\n",
       "  <tbody>\n",
       "    <tr>\n",
       "      <th>0</th>\n",
       "      <td>34.365512</td>\n",
       "      <td>109.211860</td>\n",
       "      <td>2008-05-09 01:44:59</td>\n",
       "      <td>172</td>\n",
       "      <td>2008-05-09 02:13:40</td>\n",
       "      <td>0</td>\n",
       "    </tr>\n",
       "    <tr>\n",
       "      <th>1</th>\n",
       "      <td>34.365830</td>\n",
       "      <td>109.211952</td>\n",
       "      <td>2008-05-09 02:13:40</td>\n",
       "      <td>172</td>\n",
       "      <td>2008-05-09 02:36:34</td>\n",
       "      <td>0</td>\n",
       "    </tr>\n",
       "    <tr>\n",
       "      <th>2</th>\n",
       "      <td>34.364332</td>\n",
       "      <td>109.207722</td>\n",
       "      <td>2008-05-09 02:54:04</td>\n",
       "      <td>172</td>\n",
       "      <td>2008-05-09 03:51:10</td>\n",
       "      <td>12</td>\n",
       "    </tr>\n",
       "    <tr>\n",
       "      <th>3</th>\n",
       "      <td>34.372270</td>\n",
       "      <td>109.213962</td>\n",
       "      <td>2008-05-09 04:01:14</td>\n",
       "      <td>172</td>\n",
       "      <td>2008-05-09 04:36:20</td>\n",
       "      <td>11</td>\n",
       "    </tr>\n",
       "    <tr>\n",
       "      <th>4</th>\n",
       "      <td>34.389620</td>\n",
       "      <td>109.278526</td>\n",
       "      <td>2008-05-09 05:21:05</td>\n",
       "      <td>172</td>\n",
       "      <td>2008-05-09 06:02:28</td>\n",
       "      <td>10</td>\n",
       "    </tr>\n",
       "    <tr>\n",
       "      <th>5</th>\n",
       "      <td>34.385138</td>\n",
       "      <td>109.275533</td>\n",
       "      <td>2008-05-09 06:07:58</td>\n",
       "      <td>172</td>\n",
       "      <td>2008-05-09 06:59:08</td>\n",
       "      <td>9</td>\n",
       "    </tr>\n",
       "    <tr>\n",
       "      <th>6</th>\n",
       "      <td>34.384813</td>\n",
       "      <td>109.274237</td>\n",
       "      <td>2008-05-09 06:59:08</td>\n",
       "      <td>172</td>\n",
       "      <td>2008-05-09 07:40:15</td>\n",
       "      <td>8</td>\n",
       "    </tr>\n",
       "    <tr>\n",
       "      <th>7</th>\n",
       "      <td>34.385473</td>\n",
       "      <td>109.272730</td>\n",
       "      <td>2008-05-09 07:40:15</td>\n",
       "      <td>172</td>\n",
       "      <td>2008-05-09 08:00:23</td>\n",
       "      <td>7</td>\n",
       "    </tr>\n",
       "    <tr>\n",
       "      <th>8</th>\n",
       "      <td>34.359815</td>\n",
       "      <td>109.208728</td>\n",
       "      <td>2008-05-09 09:27:44</td>\n",
       "      <td>172</td>\n",
       "      <td>2008-05-09 09:48:40</td>\n",
       "      <td>6</td>\n",
       "    </tr>\n",
       "    <tr>\n",
       "      <th>9</th>\n",
       "      <td>34.362082</td>\n",
       "      <td>109.211034</td>\n",
       "      <td>2008-05-09 10:05:45</td>\n",
       "      <td>172</td>\n",
       "      <td>2008-05-09 10:33:02</td>\n",
       "      <td>5</td>\n",
       "    </tr>\n",
       "    <tr>\n",
       "      <th>10</th>\n",
       "      <td>34.269753</td>\n",
       "      <td>108.990467</td>\n",
       "      <td>2008-05-09 11:17:10</td>\n",
       "      <td>172</td>\n",
       "      <td>2008-05-09 23:49:00</td>\n",
       "      <td>4</td>\n",
       "    </tr>\n",
       "    <tr>\n",
       "      <th>11</th>\n",
       "      <td>34.222612</td>\n",
       "      <td>108.951847</td>\n",
       "      <td>2008-05-10 00:00:42</td>\n",
       "      <td>172</td>\n",
       "      <td>2008-05-10 00:21:57</td>\n",
       "      <td>3</td>\n",
       "    </tr>\n",
       "    <tr>\n",
       "      <th>12</th>\n",
       "      <td>34.224597</td>\n",
       "      <td>108.950832</td>\n",
       "      <td>2008-05-10 00:21:57</td>\n",
       "      <td>172</td>\n",
       "      <td>2008-05-10 01:06:32</td>\n",
       "      <td>2</td>\n",
       "    </tr>\n",
       "    <tr>\n",
       "      <th>13</th>\n",
       "      <td>34.227247</td>\n",
       "      <td>108.946067</td>\n",
       "      <td>2008-05-10 01:11:29</td>\n",
       "      <td>172</td>\n",
       "      <td>2008-05-10 03:48:01</td>\n",
       "      <td>1</td>\n",
       "    </tr>\n",
       "  </tbody>\n",
       "</table>\n",
       "</div>"
      ],
      "text/plain": [
       "          lat         lng            datetime  uid    leaving_datetime  \\\n",
       "0   34.365512  109.211860 2008-05-09 01:44:59  172 2008-05-09 02:13:40   \n",
       "1   34.365830  109.211952 2008-05-09 02:13:40  172 2008-05-09 02:36:34   \n",
       "2   34.364332  109.207722 2008-05-09 02:54:04  172 2008-05-09 03:51:10   \n",
       "3   34.372270  109.213962 2008-05-09 04:01:14  172 2008-05-09 04:36:20   \n",
       "4   34.389620  109.278526 2008-05-09 05:21:05  172 2008-05-09 06:02:28   \n",
       "5   34.385138  109.275533 2008-05-09 06:07:58  172 2008-05-09 06:59:08   \n",
       "6   34.384813  109.274237 2008-05-09 06:59:08  172 2008-05-09 07:40:15   \n",
       "7   34.385473  109.272730 2008-05-09 07:40:15  172 2008-05-09 08:00:23   \n",
       "8   34.359815  109.208728 2008-05-09 09:27:44  172 2008-05-09 09:48:40   \n",
       "9   34.362082  109.211034 2008-05-09 10:05:45  172 2008-05-09 10:33:02   \n",
       "10  34.269753  108.990467 2008-05-09 11:17:10  172 2008-05-09 23:49:00   \n",
       "11  34.222612  108.951847 2008-05-10 00:00:42  172 2008-05-10 00:21:57   \n",
       "12  34.224597  108.950832 2008-05-10 00:21:57  172 2008-05-10 01:06:32   \n",
       "13  34.227247  108.946067 2008-05-10 01:11:29  172 2008-05-10 03:48:01   \n",
       "\n",
       "    cluster  \n",
       "0         0  \n",
       "1         0  \n",
       "2        12  \n",
       "3        11  \n",
       "4        10  \n",
       "5         9  \n",
       "6         8  \n",
       "7         7  \n",
       "8         6  \n",
       "9         5  \n",
       "10        4  \n",
       "11        3  \n",
       "12        2  \n",
       "13        1  "
      ]
     },
     "execution_count": 95,
     "metadata": {},
     "output_type": "execute_result"
    }
   ],
   "source": [
    "#the dataset of the stops\n",
    "cstdf"
   ]
  },
  {
   "cell_type": "markdown",
   "id": "c3ef1c64",
   "metadata": {},
   "source": [
    "# Users Similarities"
   ]
  },
  {
   "cell_type": "markdown",
   "id": "505f00dc",
   "metadata": {},
   "source": [
    "Now we want to study the similarities in the travel dairies.\n",
    "\n",
    "We will first need to aggregate the users centroid usign DBSCAN, to define the city cluster locations.\n",
    "\n",
    "Then we will compare the visitation patterns of the city cluster locations among differt users."
   ]
  },
  {
   "cell_type": "code",
   "execution_count": 96,
   "id": "b68d7c7d",
   "metadata": {},
   "outputs": [],
   "source": [
    "#load the stops' centroids\n",
    "centroid_clusters=cstdf.groupby(['uid','cluster']).mean().reset_index()"
   ]
  },
  {
   "cell_type": "code",
   "execution_count": 97,
   "id": "3d241677",
   "metadata": {},
   "outputs": [
    {
     "data": {
      "text/plain": [
       "(116.0, 116.8)"
      ]
     },
     "execution_count": 97,
     "metadata": {},
     "output_type": "execute_result"
    },
    {
     "data": {
      "image/png": "[encoded data removed]",
      "text/plain": [
       "<Figure size 720x720 with 1 Axes>"
      ]
     },
     "metadata": {
      "needs_background": "light"
     },
     "output_type": "display_data"
    }
   ],
   "source": [
    "#plots the centroids\n",
    "plt.figure(figsize=(10,10))\n",
    "plt.plot(centroid_clusters['lat'],centroid_clusters['lng'],'.',alpha=0.3)\n",
    "plt.xlim(39.7,40.35)\n",
    "plt.ylim(116,116.8)"
   ]
  },
  {
   "cell_type": "code",
   "execution_count": 98,
   "id": "41a23bf9",
   "metadata": {},
   "outputs": [
    {
     "data": {
      "text/plain": [
       "(116.0, 116.8)"
      ]
     },
     "execution_count": 98,
     "metadata": {},
     "output_type": "execute_result"
    },
    {
     "data": {
      "image/png": "[encoded data removed]",
      "text/plain": [
       "<Figure size 432x288 with 1 Axes>"
      ]
     },
     "metadata": {
      "needs_background": "light"
     },
     "output_type": "display_data"
    }
   ],
   "source": [
    "from sklearn.cluster import DBSCAN\n",
    "\n",
    "#we are usign DBSCAN to cluster the centroids in order to compare the visiting patterns.\n",
    "\n",
    "X=centroid_clusters[['lat','lng']].to_numpy()\n",
    "db = DBSCAN(eps=20/6371., min_samples=2, algorithm='ball_tree', metric='haversine').fit(np.radians(X))\n",
    "\n",
    "cluster_city = db.fit_predict(X)\n",
    "\n",
    "plt.scatter(centroid_clusters['lat'],centroid_clusters['lng'], c=cluster_city,alpha=0.5 )\n",
    "plt.xlim(39.7,40.35)\n",
    "plt.ylim(116,116.8)"
   ]
  },
  {
   "cell_type": "code",
   "execution_count": 99,
   "id": "506fcb64",
   "metadata": {},
   "outputs": [],
   "source": [
    "#We define the users city stop clusters\n",
    "\n",
    "centroid_clusters['cluster_city']=cluster_city\n",
    "centorid_clusters=centroid_clusters[centroid_clusters.cluster_city>-1]\n",
    "users_city_stops=centroid_clusters.groupby(['uid'])['cluster_city'].unique().to_dict()"
   ]
  },
  {
   "cell_type": "code",
   "execution_count": 100,
   "id": "26102ec3",
   "metadata": {},
   "outputs": [],
   "source": [
    "#We plot the matrix of users similarities.\n",
    "\n",
    "users_stops=list(users_city_stops.keys())\n",
    "similarity_matrix=np.zeros((len(users_stops),len(users_stops)))\n",
    "\n",
    "\n",
    "for idX in range(0,len(users_stops)):\n",
    "    for idY in range(0,idX):\n",
    "        stop_u1=users_city_stops[users_stops[idX]]\n",
    "        stop_u2=users_city_stops[users_stops[idY]]\n",
    "        similarity_matrix[idX,idY]=len(set(stop_u1).intersection(stop_u2))\n",
    "        similarity_matrix[idY,idX]=similarity_matrix[idX,idY]"
   ]
  },
  {
   "cell_type": "code",
   "execution_count": 101,
   "id": "26bdc7e7",
   "metadata": {},
   "outputs": [
    {
     "data": {
      "text/plain": [
       "Text(0, 0.5, 'Similarity index')"
      ]
     },
     "execution_count": 101,
     "metadata": {},
     "output_type": "execute_result"
    },
    {
     "data": {
      "image/png": "[encoded data removed]",
      "text/plain": [
       "<Figure size 720x720 with 2 Axes>"
      ]
     },
     "metadata": {
      "needs_background": "light"
     },
     "output_type": "display_data"
    }
   ],
   "source": [
    "\n",
    "\n",
    "fig, ax = plt.subplots(figsize=(10,10))\n",
    "\n",
    "min_val, max_val = 0, 15\n",
    "\n",
    "\n",
    "\n",
    "map_sim=ax.matshow(similarity_matrix, cmap=plt.cm.Blues)\n",
    "\n",
    "for i in range(len(users_stops)):\n",
    "    for j in range(len(users_stops)):\n",
    "        c = similarity_matrix[j,i]\n",
    "        ax.text(i, j, str(c), va='center', ha='center')\n",
    "        \n",
    "        \n",
    "\n",
    "#Plots aesthetics.\n",
    "user_id_label={str(k) for k in users_stops}\n",
    "ax.tick_params(axis=\"x\", bottom=True, top=False, labelbottom=True, labeltop=False)\n",
    "ax.set_xticks(range(0,len(users_stops)))\n",
    "ax.set_xticklabels(user_id_label)\n",
    "ax.set_yticks(range(0,len(users_stops)))\n",
    "ax.set_yticklabels(user_id_label)\n",
    "ax.set_xlabel('Users_id',fontsize=20)\n",
    "ax.set_ylabel('Users_id',fontsize=20)\n",
    "cbar=fig.colorbar(map_sim, ax=ax)\n",
    "cbar.ax.get_yaxis().labelpad = 15\n",
    "cbar.ax.set_ylabel('Similarity index', rotation=270,fontsize=20)"
   ]
  },
  {
   "cell_type": "code",
   "execution_count": null,
   "id": "fe1f5e47",
   "metadata": {},
   "outputs": [],
   "source": [
    "\n"
   ]
  },
  {
   "cell_type": "code",
   "execution_count": null,
   "id": "4451ce7b",
   "metadata": {},
   "outputs": [],
   "source": [
    "\n"
   ]
  },
  {
   "cell_type": "code",
   "execution_count": null,
   "id": "e5419f89",
   "metadata": {},
   "outputs": [],
   "source": []
  }
 ],
 "metadata": {
  "kernelspec": {
   "display_name": "Python 3 (ipykernel)",
   "language": "python",
   "name": "python3"
  },
  "language_info": {
   "codemirror_mode": {
    "name": "ipython",
    "version": 3
   },
   "file_extension": ".py",
   "mimetype": "text/x-python",
   "name": "python",
   "nbconvert_exporter": "python",
   "pygments_lexer": "ipython3",
   "version": "3.8.10"
  }
 },
 "nbformat": 4,
 "nbformat_minor": 5
}
